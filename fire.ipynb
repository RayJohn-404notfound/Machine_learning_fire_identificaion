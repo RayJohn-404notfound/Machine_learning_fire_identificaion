{
  "cells": [
    {
      "cell_type": "markdown",
      "metadata": {
        "id": "view-in-github",
        "colab_type": "text"
      },
      "source": [
        "<a href=\"https://colab.research.google.com/github/RayJohn-404notfound/Machine_learning_fire_identificaion/blob/main/fire.ipynb\" target=\"_parent\"><img src=\"https://colab.research.google.com/assets/colab-badge.svg\" alt=\"Open In Colab\"/></a>"
      ]
    },
    {
      "cell_type": "code",
      "execution_count": null,
      "metadata": {
        "id": "SjFFfAn-nH98",
        "colab": {
          "base_uri": "https://localhost:8080/"
        },
        "outputId": "815135a3-2235-47d2-8fe6-bafcd95647a4"
      },
      "outputs": [
        {
          "output_type": "stream",
          "name": "stdout",
          "text": [
            "Collecting sox\n",
            "  Downloading sox-1.5.0.tar.gz (63 kB)\n",
            "\u001b[?25l     \u001b[90m━━━━━━━━━━━━━━━━━━━━━━━━━━━━━━━━━━━━━━━━\u001b[0m \u001b[32m0.0/63.9 kB\u001b[0m \u001b[31m?\u001b[0m eta \u001b[36m-:--:--\u001b[0m\r\u001b[2K     \u001b[90m━━━━━━━━━━━━━━━━━━━━━━━━━━━━━━━━━━━━━━━━\u001b[0m \u001b[32m63.9/63.9 kB\u001b[0m \u001b[31m2.0 MB/s\u001b[0m eta \u001b[36m0:00:00\u001b[0m\n",
            "\u001b[?25h  Preparing metadata (setup.py) ... \u001b[?25l\u001b[?25hdone\n",
            "Requirement already satisfied: numpy>=1.9.0 in /usr/local/lib/python3.11/dist-packages (from sox) (2.0.2)\n",
            "Requirement already satisfied: typing-extensions>=3.7.4.2 in /usr/local/lib/python3.11/dist-packages (from sox) (4.13.2)\n",
            "Building wheels for collected packages: sox\n",
            "  Building wheel for sox (setup.py) ... \u001b[?25l\u001b[?25hdone\n",
            "  Created wheel for sox: filename=sox-1.5.0-py3-none-any.whl size=40036 sha256=b9613db7941edb56a2c69881df9915b7c3330d6e80282da584e7e0c7382a9b9a\n",
            "  Stored in directory: /root/.cache/pip/wheels/74/89/93/023fcdacaec4e5471e78b43992515e8500cc2505b307e2e6b7\n",
            "Successfully built sox\n",
            "Installing collected packages: sox\n",
            "Successfully installed sox-1.5.0\n"
          ]
        }
      ],
      "source": [
        "pip install sox"
      ]
    },
    {
      "cell_type": "code",
      "execution_count": null,
      "metadata": {
        "colab": {
          "base_uri": "https://localhost:8080/"
        },
        "id": "ZG8gjS4h6K5J",
        "outputId": "2246256e-602f-4cfb-f885-f304f4ba288a"
      },
      "outputs": [
        {
          "output_type": "stream",
          "name": "stdout",
          "text": [
            "Mounted at /content/drive\n"
          ]
        }
      ],
      "source": [
        "from google.colab import drive\n",
        "drive.mount('/content/drive')\n"
      ]
    },
    {
      "cell_type": "code",
      "execution_count": null,
      "metadata": {
        "colab": {
          "base_uri": "https://localhost:8080/"
        },
        "id": "4uLhuHPdqpLF",
        "outputId": "adf4f061-2046-445f-83ae-26d685f31693"
      },
      "outputs": [
        {
          "output_type": "stream",
          "name": "stdout",
          "text": [
            "Requirement already satisfied: soundfile in /usr/local/lib/python3.11/dist-packages (0.13.1)\n",
            "Requirement already satisfied: cffi>=1.0 in /usr/local/lib/python3.11/dist-packages (from soundfile) (1.17.1)\n",
            "Requirement already satisfied: numpy in /usr/local/lib/python3.11/dist-packages (from soundfile) (2.0.2)\n",
            "Requirement already satisfied: pycparser in /usr/local/lib/python3.11/dist-packages (from cffi>=1.0->soundfile) (2.22)\n"
          ]
        }
      ],
      "source": [
        "pip install soundfile\n"
      ]
    },
    {
      "cell_type": "code",
      "execution_count": null,
      "metadata": {
        "colab": {
          "base_uri": "https://localhost:8080/"
        },
        "id": "w228RU4zrHfW",
        "outputId": "bf925ac4-e4aa-413a-93f9-b5a19b59a08d"
      },
      "outputs": [
        {
          "output_type": "stream",
          "name": "stdout",
          "text": [
            "Collecting snntorch\n",
            "  Downloading snntorch-0.9.4-py2.py3-none-any.whl.metadata (15 kB)\n",
            "Downloading snntorch-0.9.4-py2.py3-none-any.whl (125 kB)\n",
            "\u001b[2K   \u001b[90m━━━━━━━━━━━━━━━━━━━━━━━━━━━━━━━━━━━━━━━━\u001b[0m \u001b[32m125.6/125.6 kB\u001b[0m \u001b[31m3.5 MB/s\u001b[0m eta \u001b[36m0:00:00\u001b[0m\n",
            "\u001b[?25hInstalling collected packages: snntorch\n",
            "Successfully installed snntorch-0.9.4\n"
          ]
        }
      ],
      "source": [
        "!pip install -U snntorch\n"
      ]
    },
    {
      "cell_type": "code",
      "execution_count": null,
      "metadata": {
        "colab": {
          "base_uri": "https://localhost:8080/"
        },
        "id": "2aqESa8REZNZ",
        "outputId": "d5a435f5-b1a6-4d73-b1cf-14759eaa6f61"
      },
      "outputs": [
        {
          "output_type": "stream",
          "name": "stdout",
          "text": [
            "Collecting torch-optimizer\n",
            "  Downloading torch_optimizer-0.3.0-py3-none-any.whl.metadata (55 kB)\n",
            "\u001b[?25l     \u001b[90m━━━━━━━━━━━━━━━━━━━━━━━━━━━━━━━━━━━━━━━━\u001b[0m \u001b[32m0.0/55.9 kB\u001b[0m \u001b[31m?\u001b[0m eta \u001b[36m-:--:--\u001b[0m\r\u001b[2K     \u001b[90m━━━━━━━━━━━━━━━━━━━━━━━━━━━━━━━━━━━━━━━━\u001b[0m \u001b[32m55.9/55.9 kB\u001b[0m \u001b[31m2.3 MB/s\u001b[0m eta \u001b[36m0:00:00\u001b[0m\n",
            "\u001b[?25hRequirement already satisfied: torch>=1.5.0 in /usr/local/lib/python3.11/dist-packages (from torch-optimizer) (2.6.0+cu124)\n",
            "Collecting pytorch-ranger>=0.1.1 (from torch-optimizer)\n",
            "  Downloading pytorch_ranger-0.1.1-py3-none-any.whl.metadata (509 bytes)\n",
            "Requirement already satisfied: filelock in /usr/local/lib/python3.11/dist-packages (from torch>=1.5.0->torch-optimizer) (3.18.0)\n",
            "Requirement already satisfied: typing-extensions>=4.10.0 in /usr/local/lib/python3.11/dist-packages (from torch>=1.5.0->torch-optimizer) (4.13.2)\n",
            "Requirement already satisfied: networkx in /usr/local/lib/python3.11/dist-packages (from torch>=1.5.0->torch-optimizer) (3.4.2)\n",
            "Requirement already satisfied: jinja2 in /usr/local/lib/python3.11/dist-packages (from torch>=1.5.0->torch-optimizer) (3.1.6)\n",
            "Requirement already satisfied: fsspec in /usr/local/lib/python3.11/dist-packages (from torch>=1.5.0->torch-optimizer) (2025.3.2)\n",
            "Collecting nvidia-cuda-nvrtc-cu12==12.4.127 (from torch>=1.5.0->torch-optimizer)\n",
            "  Downloading nvidia_cuda_nvrtc_cu12-12.4.127-py3-none-manylinux2014_x86_64.whl.metadata (1.5 kB)\n",
            "Collecting nvidia-cuda-runtime-cu12==12.4.127 (from torch>=1.5.0->torch-optimizer)\n",
            "  Downloading nvidia_cuda_runtime_cu12-12.4.127-py3-none-manylinux2014_x86_64.whl.metadata (1.5 kB)\n",
            "Collecting nvidia-cuda-cupti-cu12==12.4.127 (from torch>=1.5.0->torch-optimizer)\n",
            "  Downloading nvidia_cuda_cupti_cu12-12.4.127-py3-none-manylinux2014_x86_64.whl.metadata (1.6 kB)\n",
            "Collecting nvidia-cudnn-cu12==9.1.0.70 (from torch>=1.5.0->torch-optimizer)\n",
            "  Downloading nvidia_cudnn_cu12-9.1.0.70-py3-none-manylinux2014_x86_64.whl.metadata (1.6 kB)\n",
            "Collecting nvidia-cublas-cu12==12.4.5.8 (from torch>=1.5.0->torch-optimizer)\n",
            "  Downloading nvidia_cublas_cu12-12.4.5.8-py3-none-manylinux2014_x86_64.whl.metadata (1.5 kB)\n",
            "Collecting nvidia-cufft-cu12==11.2.1.3 (from torch>=1.5.0->torch-optimizer)\n",
            "  Downloading nvidia_cufft_cu12-11.2.1.3-py3-none-manylinux2014_x86_64.whl.metadata (1.5 kB)\n",
            "Collecting nvidia-curand-cu12==10.3.5.147 (from torch>=1.5.0->torch-optimizer)\n",
            "  Downloading nvidia_curand_cu12-10.3.5.147-py3-none-manylinux2014_x86_64.whl.metadata (1.5 kB)\n",
            "Collecting nvidia-cusolver-cu12==11.6.1.9 (from torch>=1.5.0->torch-optimizer)\n",
            "  Downloading nvidia_cusolver_cu12-11.6.1.9-py3-none-manylinux2014_x86_64.whl.metadata (1.6 kB)\n",
            "Collecting nvidia-cusparse-cu12==12.3.1.170 (from torch>=1.5.0->torch-optimizer)\n",
            "  Downloading nvidia_cusparse_cu12-12.3.1.170-py3-none-manylinux2014_x86_64.whl.metadata (1.6 kB)\n",
            "Requirement already satisfied: nvidia-cusparselt-cu12==0.6.2 in /usr/local/lib/python3.11/dist-packages (from torch>=1.5.0->torch-optimizer) (0.6.2)\n",
            "Requirement already satisfied: nvidia-nccl-cu12==2.21.5 in /usr/local/lib/python3.11/dist-packages (from torch>=1.5.0->torch-optimizer) (2.21.5)\n",
            "Requirement already satisfied: nvidia-nvtx-cu12==12.4.127 in /usr/local/lib/python3.11/dist-packages (from torch>=1.5.0->torch-optimizer) (12.4.127)\n",
            "Collecting nvidia-nvjitlink-cu12==12.4.127 (from torch>=1.5.0->torch-optimizer)\n",
            "  Downloading nvidia_nvjitlink_cu12-12.4.127-py3-none-manylinux2014_x86_64.whl.metadata (1.5 kB)\n",
            "Requirement already satisfied: triton==3.2.0 in /usr/local/lib/python3.11/dist-packages (from torch>=1.5.0->torch-optimizer) (3.2.0)\n",
            "Requirement already satisfied: sympy==1.13.1 in /usr/local/lib/python3.11/dist-packages (from torch>=1.5.0->torch-optimizer) (1.13.1)\n",
            "Requirement already satisfied: mpmath<1.4,>=1.1.0 in /usr/local/lib/python3.11/dist-packages (from sympy==1.13.1->torch>=1.5.0->torch-optimizer) (1.3.0)\n",
            "Requirement already satisfied: MarkupSafe>=2.0 in /usr/local/lib/python3.11/dist-packages (from jinja2->torch>=1.5.0->torch-optimizer) (3.0.2)\n",
            "Downloading torch_optimizer-0.3.0-py3-none-any.whl (61 kB)\n",
            "\u001b[2K   \u001b[90m━━━━━━━━━━━━━━━━━━━━━━━━━━━━━━━━━━━━━━━━\u001b[0m \u001b[32m61.9/61.9 kB\u001b[0m \u001b[31m4.9 MB/s\u001b[0m eta \u001b[36m0:00:00\u001b[0m\n",
            "\u001b[?25hDownloading pytorch_ranger-0.1.1-py3-none-any.whl (14 kB)\n",
            "Downloading nvidia_cublas_cu12-12.4.5.8-py3-none-manylinux2014_x86_64.whl (363.4 MB)\n",
            "\u001b[2K   \u001b[90m━━━━━━━━━━━━━━━━━━━━━━━━━━━━━━━━━━━━━━━━\u001b[0m \u001b[32m363.4/363.4 MB\u001b[0m \u001b[31m3.0 MB/s\u001b[0m eta \u001b[36m0:00:00\u001b[0m\n",
            "\u001b[?25hDownloading nvidia_cuda_cupti_cu12-12.4.127-py3-none-manylinux2014_x86_64.whl (13.8 MB)\n",
            "\u001b[2K   \u001b[90m━━━━━━━━━━━━━━━━━━━━━━━━━━━━━━━━━━━━━━━━\u001b[0m \u001b[32m13.8/13.8 MB\u001b[0m \u001b[31m102.4 MB/s\u001b[0m eta \u001b[36m0:00:00\u001b[0m\n",
            "\u001b[?25hDownloading nvidia_cuda_nvrtc_cu12-12.4.127-py3-none-manylinux2014_x86_64.whl (24.6 MB)\n",
            "\u001b[2K   \u001b[90m━━━━━━━━━━━━━━━━━━━━━━━━━━━━━━━━━━━━━━━━\u001b[0m \u001b[32m24.6/24.6 MB\u001b[0m \u001b[31m92.1 MB/s\u001b[0m eta \u001b[36m0:00:00\u001b[0m\n",
            "\u001b[?25hDownloading nvidia_cuda_runtime_cu12-12.4.127-py3-none-manylinux2014_x86_64.whl (883 kB)\n",
            "\u001b[2K   \u001b[90m━━━━━━━━━━━━━━━━━━━━━━━━━━━━━━━━━━━━━━━━\u001b[0m \u001b[32m883.7/883.7 kB\u001b[0m \u001b[31m62.5 MB/s\u001b[0m eta \u001b[36m0:00:00\u001b[0m\n",
            "\u001b[?25hDownloading nvidia_cudnn_cu12-9.1.0.70-py3-none-manylinux2014_x86_64.whl (664.8 MB)\n",
            "\u001b[2K   \u001b[90m━━━━━━━━━━━━━━━━━━━━━━━━━━━━━━━━━━━━━━━━\u001b[0m \u001b[32m664.8/664.8 MB\u001b[0m \u001b[31m1.7 MB/s\u001b[0m eta \u001b[36m0:00:00\u001b[0m\n",
            "\u001b[?25hDownloading nvidia_cufft_cu12-11.2.1.3-py3-none-manylinux2014_x86_64.whl (211.5 MB)\n",
            "\u001b[2K   \u001b[90m━━━━━━━━━━━━━━━━━━━━━━━━━━━━━━━━━━━━━━━━\u001b[0m \u001b[32m211.5/211.5 MB\u001b[0m \u001b[31m11.7 MB/s\u001b[0m eta \u001b[36m0:00:00\u001b[0m\n",
            "\u001b[?25hDownloading nvidia_curand_cu12-10.3.5.147-py3-none-manylinux2014_x86_64.whl (56.3 MB)\n",
            "\u001b[2K   \u001b[90m━━━━━━━━━━━━━━━━━━━━━━━━━━━━━━━━━━━━━━━━\u001b[0m \u001b[32m56.3/56.3 MB\u001b[0m \u001b[31m41.7 MB/s\u001b[0m eta \u001b[36m0:00:00\u001b[0m\n",
            "\u001b[?25hDownloading nvidia_cusolver_cu12-11.6.1.9-py3-none-manylinux2014_x86_64.whl (127.9 MB)\n",
            "\u001b[2K   \u001b[90m━━━━━━━━━━━━━━━━━━━━━━━━━━━━━━━━━━━━━━━━\u001b[0m \u001b[32m127.9/127.9 MB\u001b[0m \u001b[31m20.0 MB/s\u001b[0m eta \u001b[36m0:00:00\u001b[0m\n",
            "\u001b[?25hDownloading nvidia_cusparse_cu12-12.3.1.170-py3-none-manylinux2014_x86_64.whl (207.5 MB)\n",
            "\u001b[2K   \u001b[90m━━━━━━━━━━━━━━━━━━━━━━━━━━━━━━━━━━━━━━━━\u001b[0m \u001b[32m207.5/207.5 MB\u001b[0m \u001b[31m4.0 MB/s\u001b[0m eta \u001b[36m0:00:00\u001b[0m\n",
            "\u001b[?25hDownloading nvidia_nvjitlink_cu12-12.4.127-py3-none-manylinux2014_x86_64.whl (21.1 MB)\n",
            "\u001b[2K   \u001b[90m━━━━━━━━━━━━━━━━━━━━━━━━━━━━━━━━━━━━━━━━\u001b[0m \u001b[32m21.1/21.1 MB\u001b[0m \u001b[31m109.3 MB/s\u001b[0m eta \u001b[36m0:00:00\u001b[0m\n",
            "\u001b[?25hInstalling collected packages: nvidia-nvjitlink-cu12, nvidia-curand-cu12, nvidia-cufft-cu12, nvidia-cuda-runtime-cu12, nvidia-cuda-nvrtc-cu12, nvidia-cuda-cupti-cu12, nvidia-cublas-cu12, nvidia-cusparse-cu12, nvidia-cudnn-cu12, nvidia-cusolver-cu12, pytorch-ranger, torch-optimizer\n",
            "  Attempting uninstall: nvidia-nvjitlink-cu12\n",
            "    Found existing installation: nvidia-nvjitlink-cu12 12.5.82\n",
            "    Uninstalling nvidia-nvjitlink-cu12-12.5.82:\n",
            "      Successfully uninstalled nvidia-nvjitlink-cu12-12.5.82\n",
            "  Attempting uninstall: nvidia-curand-cu12\n",
            "    Found existing installation: nvidia-curand-cu12 10.3.6.82\n",
            "    Uninstalling nvidia-curand-cu12-10.3.6.82:\n",
            "      Successfully uninstalled nvidia-curand-cu12-10.3.6.82\n",
            "  Attempting uninstall: nvidia-cufft-cu12\n",
            "    Found existing installation: nvidia-cufft-cu12 11.2.3.61\n",
            "    Uninstalling nvidia-cufft-cu12-11.2.3.61:\n",
            "      Successfully uninstalled nvidia-cufft-cu12-11.2.3.61\n",
            "  Attempting uninstall: nvidia-cuda-runtime-cu12\n",
            "    Found existing installation: nvidia-cuda-runtime-cu12 12.5.82\n",
            "    Uninstalling nvidia-cuda-runtime-cu12-12.5.82:\n",
            "      Successfully uninstalled nvidia-cuda-runtime-cu12-12.5.82\n",
            "  Attempting uninstall: nvidia-cuda-nvrtc-cu12\n",
            "    Found existing installation: nvidia-cuda-nvrtc-cu12 12.5.82\n",
            "    Uninstalling nvidia-cuda-nvrtc-cu12-12.5.82:\n",
            "      Successfully uninstalled nvidia-cuda-nvrtc-cu12-12.5.82\n",
            "  Attempting uninstall: nvidia-cuda-cupti-cu12\n",
            "    Found existing installation: nvidia-cuda-cupti-cu12 12.5.82\n",
            "    Uninstalling nvidia-cuda-cupti-cu12-12.5.82:\n",
            "      Successfully uninstalled nvidia-cuda-cupti-cu12-12.5.82\n",
            "  Attempting uninstall: nvidia-cublas-cu12\n",
            "    Found existing installation: nvidia-cublas-cu12 12.5.3.2\n",
            "    Uninstalling nvidia-cublas-cu12-12.5.3.2:\n",
            "      Successfully uninstalled nvidia-cublas-cu12-12.5.3.2\n",
            "  Attempting uninstall: nvidia-cusparse-cu12\n",
            "    Found existing installation: nvidia-cusparse-cu12 12.5.1.3\n",
            "    Uninstalling nvidia-cusparse-cu12-12.5.1.3:\n",
            "      Successfully uninstalled nvidia-cusparse-cu12-12.5.1.3\n",
            "  Attempting uninstall: nvidia-cudnn-cu12\n",
            "    Found existing installation: nvidia-cudnn-cu12 9.3.0.75\n",
            "    Uninstalling nvidia-cudnn-cu12-9.3.0.75:\n",
            "      Successfully uninstalled nvidia-cudnn-cu12-9.3.0.75\n",
            "  Attempting uninstall: nvidia-cusolver-cu12\n",
            "    Found existing installation: nvidia-cusolver-cu12 11.6.3.83\n",
            "    Uninstalling nvidia-cusolver-cu12-11.6.3.83:\n",
            "      Successfully uninstalled nvidia-cusolver-cu12-11.6.3.83\n",
            "Successfully installed nvidia-cublas-cu12-12.4.5.8 nvidia-cuda-cupti-cu12-12.4.127 nvidia-cuda-nvrtc-cu12-12.4.127 nvidia-cuda-runtime-cu12-12.4.127 nvidia-cudnn-cu12-9.1.0.70 nvidia-cufft-cu12-11.2.1.3 nvidia-curand-cu12-10.3.5.147 nvidia-cusolver-cu12-11.6.1.9 nvidia-cusparse-cu12-12.3.1.170 nvidia-nvjitlink-cu12-12.4.127 pytorch-ranger-0.1.1 torch-optimizer-0.3.0\n"
          ]
        }
      ],
      "source": [
        "pip install torch-optimizer"
      ]
    },
    {
      "cell_type": "code",
      "source": [
        "pip install torch torchvision torchaudio"
      ],
      "metadata": {
        "colab": {
          "base_uri": "https://localhost:8080/"
        },
        "id": "CqTDkLDHe8T6",
        "outputId": "25b13566-8600-4c2f-a09e-73e613120b2a"
      },
      "execution_count": null,
      "outputs": [
        {
          "output_type": "stream",
          "name": "stdout",
          "text": [
            "Requirement already satisfied: torch in /usr/local/lib/python3.11/dist-packages (2.6.0+cu124)\n",
            "Requirement already satisfied: torchvision in /usr/local/lib/python3.11/dist-packages (0.21.0+cu124)\n",
            "Requirement already satisfied: torchaudio in /usr/local/lib/python3.11/dist-packages (2.6.0+cu124)\n",
            "Requirement already satisfied: filelock in /usr/local/lib/python3.11/dist-packages (from torch) (3.18.0)\n",
            "Requirement already satisfied: typing-extensions>=4.10.0 in /usr/local/lib/python3.11/dist-packages (from torch) (4.13.2)\n",
            "Requirement already satisfied: networkx in /usr/local/lib/python3.11/dist-packages (from torch) (3.4.2)\n",
            "Requirement already satisfied: jinja2 in /usr/local/lib/python3.11/dist-packages (from torch) (3.1.6)\n",
            "Requirement already satisfied: fsspec in /usr/local/lib/python3.11/dist-packages (from torch) (2025.3.2)\n",
            "Requirement already satisfied: nvidia-cuda-nvrtc-cu12==12.4.127 in /usr/local/lib/python3.11/dist-packages (from torch) (12.4.127)\n",
            "Requirement already satisfied: nvidia-cuda-runtime-cu12==12.4.127 in /usr/local/lib/python3.11/dist-packages (from torch) (12.4.127)\n",
            "Requirement already satisfied: nvidia-cuda-cupti-cu12==12.4.127 in /usr/local/lib/python3.11/dist-packages (from torch) (12.4.127)\n",
            "Requirement already satisfied: nvidia-cudnn-cu12==9.1.0.70 in /usr/local/lib/python3.11/dist-packages (from torch) (9.1.0.70)\n",
            "Requirement already satisfied: nvidia-cublas-cu12==12.4.5.8 in /usr/local/lib/python3.11/dist-packages (from torch) (12.4.5.8)\n",
            "Requirement already satisfied: nvidia-cufft-cu12==11.2.1.3 in /usr/local/lib/python3.11/dist-packages (from torch) (11.2.1.3)\n",
            "Requirement already satisfied: nvidia-curand-cu12==10.3.5.147 in /usr/local/lib/python3.11/dist-packages (from torch) (10.3.5.147)\n",
            "Requirement already satisfied: nvidia-cusolver-cu12==11.6.1.9 in /usr/local/lib/python3.11/dist-packages (from torch) (11.6.1.9)\n",
            "Requirement already satisfied: nvidia-cusparse-cu12==12.3.1.170 in /usr/local/lib/python3.11/dist-packages (from torch) (12.3.1.170)\n",
            "Requirement already satisfied: nvidia-cusparselt-cu12==0.6.2 in /usr/local/lib/python3.11/dist-packages (from torch) (0.6.2)\n",
            "Requirement already satisfied: nvidia-nccl-cu12==2.21.5 in /usr/local/lib/python3.11/dist-packages (from torch) (2.21.5)\n",
            "Requirement already satisfied: nvidia-nvtx-cu12==12.4.127 in /usr/local/lib/python3.11/dist-packages (from torch) (12.4.127)\n",
            "Requirement already satisfied: nvidia-nvjitlink-cu12==12.4.127 in /usr/local/lib/python3.11/dist-packages (from torch) (12.4.127)\n",
            "Requirement already satisfied: triton==3.2.0 in /usr/local/lib/python3.11/dist-packages (from torch) (3.2.0)\n",
            "Requirement already satisfied: sympy==1.13.1 in /usr/local/lib/python3.11/dist-packages (from torch) (1.13.1)\n",
            "Requirement already satisfied: mpmath<1.4,>=1.1.0 in /usr/local/lib/python3.11/dist-packages (from sympy==1.13.1->torch) (1.3.0)\n",
            "Requirement already satisfied: numpy in /usr/local/lib/python3.11/dist-packages (from torchvision) (2.0.2)\n",
            "Requirement already satisfied: pillow!=8.3.*,>=5.3.0 in /usr/local/lib/python3.11/dist-packages (from torchvision) (11.2.1)\n",
            "Requirement already satisfied: MarkupSafe>=2.0 in /usr/local/lib/python3.11/dist-packages (from jinja2->torch) (3.0.2)\n"
          ]
        }
      ]
    },
    {
      "cell_type": "code",
      "source": [
        "from google.colab import drive\n",
        "drive.mount('/content/drive')"
      ],
      "metadata": {
        "colab": {
          "base_uri": "https://localhost:8080/"
        },
        "id": "ASxXoDLt63u2",
        "outputId": "b126e5f3-cd37-4dd0-84e8-3a0671cfb88f"
      },
      "execution_count": null,
      "outputs": [
        {
          "output_type": "stream",
          "name": "stdout",
          "text": [
            "Drive already mounted at /content/drive; to attempt to forcibly remount, call drive.mount(\"/content/drive\", force_remount=True).\n"
          ]
        }
      ]
    },
    {
      "cell_type": "code",
      "execution_count": null,
      "metadata": {
        "colab": {
          "base_uri": "https://localhost:8080/",
          "height": 1000
        },
        "id": "JZV6d1-bp5R6",
        "outputId": "d3b40240-4783-4fb4-b7cd-dda3452eea72"
      },
      "outputs": [
        {
          "output_type": "stream",
          "name": "stdout",
          "text": [
            "================================================================================\n",
            "🖥️  SYSTEM INFORMATION\n",
            "================================================================================\n",
            "Python Version: 3.8.10\n",
            "PyTorch Version: 2.6.0+cu124\n",
            "Device: CUDA\n",
            "GPU: NVIDIA A100-SXM4-40GB\n",
            "GPU Count: 1\n",
            "System RAM: 83.5 GB total, 80.1 GB available\n",
            "GPU RAM: 40.0 GB total, 34.7 GB free\n",
            "================================================================================\n",
            "\n",
            "🎯 Selected Device: CUDA\n",
            "\n",
            "================================================================================\n",
            "⚙️  TRAINING CONFIGURATION\n",
            "================================================================================\n",
            "Device              : cuda\n",
            "Batch Size          : 32\n",
            "Learning Rate       : 0.0005\n",
            "Max Epochs          : 80\n",
            "Patience            : 10\n",
            "Optimizer           : Adam\n",
            "Loss Function       : MSE (Spike Rate)\n",
            "Gradient Clipping   : 1.0\n",
            "Time Steps (T)      : 15\n",
            "Beta (LIF)          : 0.5\n",
            "Random Seed         : 42\n",
            "================================================================================\n",
            "\n",
            "✅ 找到数据路径: /content/drive/MyDrive/data\n",
            "正在扫描数据路径: /content/drive/MyDrive/data\n",
            "Fire 文件夹: /content/drive/MyDrive/data/fire\n",
            "NoFire 文件夹: /content/drive/MyDrive/data/nofire\n",
            "找到 1697 个 fire 文件\n",
            "找到 1562 个 nofire 文件\n",
            "Train set: 2607 samples\n",
            "Test set: 652 samples\n",
            "Fire samples in train: 1349\n",
            "Fire samples in test: 348\n",
            "\n",
            "================================================================================\n",
            "🧠 MODEL ARCHITECTURE SUMMARY\n",
            "================================================================================\n",
            "Model Name: CSNN (Convolutional Spiking Neural Network)\n",
            "Time Steps (T): 15\n",
            "Total Parameters: 16,516\n",
            "Trainable Parameters: 16,516\n",
            "Non-trainable Parameters: 0\n",
            "Model Size: 0.06 MB (float32)\n",
            "\n",
            "📋 LAYER-WISE PARAMETER BREAKDOWN\n",
            "------------------------------------------------------------\n",
            "batch_norm_in  :          2 params (W:        1, B:      1)\n",
            "conv1          :        208 params (W:      200, B:      8)\n",
            "conv2          :      3,216 params (W:    3,200, B:     16)\n",
            "conv3          :     12,832 params (W:   12,800, B:     32)\n",
            "fc2            :        258 params (W:      256, B:      2)\n",
            "------------------------------------------------------------\n",
            "TOTAL          :     16,516 params\n",
            "\n",
            "⚡ SPIKING NEURAL NETWORK SPECIFICS\n",
            "------------------------------------------------------------\n",
            "LIF Neurons: 5 layers (conv layers + fc layers)\n",
            "Spike Encoding: Direct input (no Poisson encoding)\n",
            "Output: Normalized spike rates [0,1]\n",
            "Loss Function: MSE with one-hot targets\n",
            "\n",
            "🏗️  NETWORK ARCHITECTURE\n",
            "------------------------------------------------------------\n",
            "Input: [batch, 1, 64, time_frames] (Mel Spectrogram)\n",
            "├── BatchNorm2d(1)\n",
            "├── Conv2d(1→8, 5x5) + LIF + MaxPool(2x2)\n",
            "├── Conv2d(8→16, 5x5) + LIF + MaxPool(2x2)\n",
            "├── Conv2d(16→32, 5x5) + LIF + MaxPool(2x2)\n",
            "├── Flatten + FC(auto→128) + LIF\n",
            "└── FC(128→2) + LIF\n",
            "Output: [batch, 2] (Fire/NoFire spike rates)\n",
            "================================================================================\n",
            "\n",
            "🚀 开始训练...\n",
            "================================================================================\n",
            "Epoch   1/80\n"
          ]
        },
        {
          "output_type": "stream",
          "name": "stderr",
          "text": [
            "Training:   1%|          | 1/81 [00:10<14:12, 10.66s/it]"
          ]
        },
        {
          "output_type": "stream",
          "name": "stdout",
          "text": [
            "🔧 FC1 input size: 3456\n"
          ]
        },
        {
          "output_type": "stream",
          "name": "stderr",
          "text": []
        },
        {
          "output_type": "stream",
          "name": "stdout",
          "text": [
            "  Loss: 0.500000 | Train Acc: 0.4826 | Test Acc: 0.4663 | Time: 29.4s\n",
            "  ✅ New best model saved! (Acc: 0.4663)\n",
            "Epoch   2/80\n"
          ]
        },
        {
          "output_type": "stream",
          "name": "stderr",
          "text": []
        },
        {
          "output_type": "stream",
          "name": "stdout",
          "text": [
            "  Loss: 0.500000 | Train Acc: 0.4830 | Test Acc: 0.4663 | Time: 20.3s\n",
            "Epoch   3/80\n"
          ]
        },
        {
          "output_type": "stream",
          "name": "stderr",
          "text": []
        },
        {
          "output_type": "stream",
          "name": "stdout",
          "text": [
            "  Loss: 0.393261 | Train Acc: 0.4838 | Test Acc: 0.4647 | Time: 20.1s\n",
            "Epoch   4/80\n"
          ]
        },
        {
          "output_type": "stream",
          "name": "stderr",
          "text": []
        },
        {
          "output_type": "stream",
          "name": "stdout",
          "text": [
            "  Loss: 0.254811 | Train Acc: 0.4838 | Test Acc: 0.4755 | Time: 20.3s\n",
            "  ✅ New best model saved! (Acc: 0.4755)\n",
            "Epoch   5/80\n"
          ]
        },
        {
          "output_type": "stream",
          "name": "stderr",
          "text": []
        },
        {
          "output_type": "stream",
          "name": "stdout",
          "text": [
            "  Loss: 0.250531 | Train Acc: 0.4838 | Test Acc: 0.4678 | Time: 20.3s\n",
            "Epoch   6/80\n"
          ]
        },
        {
          "output_type": "stream",
          "name": "stderr",
          "text": []
        },
        {
          "output_type": "stream",
          "name": "stdout",
          "text": [
            "  Loss: 0.247431 | Train Acc: 0.4846 | Test Acc: 0.4678 | Time: 19.9s\n",
            "Epoch   7/80\n"
          ]
        },
        {
          "output_type": "stream",
          "name": "stderr",
          "text": []
        },
        {
          "output_type": "stream",
          "name": "stdout",
          "text": [
            "  Loss: 0.240355 | Train Acc: 0.6617 | Test Acc: 0.7055 | Time: 19.8s\n",
            "  ✅ New best model saved! (Acc: 0.7055)\n",
            "Epoch   8/80\n"
          ]
        },
        {
          "output_type": "stream",
          "name": "stderr",
          "text": []
        },
        {
          "output_type": "stream",
          "name": "stdout",
          "text": [
            "  Loss: 0.225860 | Train Acc: 0.7527 | Test Acc: 0.7776 | Time: 19.8s\n",
            "  ✅ New best model saved! (Acc: 0.7776)\n",
            "Epoch   9/80\n"
          ]
        },
        {
          "output_type": "stream",
          "name": "stderr",
          "text": []
        },
        {
          "output_type": "stream",
          "name": "stdout",
          "text": [
            "  Loss: 0.208182 | Train Acc: 0.7689 | Test Acc: 0.7914 | Time: 19.5s\n",
            "  ✅ New best model saved! (Acc: 0.7914)\n",
            "Epoch  10/80\n"
          ]
        },
        {
          "output_type": "stream",
          "name": "stderr",
          "text": []
        },
        {
          "output_type": "stream",
          "name": "stdout",
          "text": [
            "  Loss: 0.189414 | Train Acc: 0.7890 | Test Acc: 0.7899 | Time: 20.0s\n",
            "\n",
            "============================================================\n",
            "💾 CURRENT RESOURCE USAGE\n",
            "============================================================\n",
            "System RAM: 4.1% used (2.4/83.5 GB)\n",
            "GPU RAM: 13.4% used (5.3/40.0 GB)\n",
            "============================================================\n",
            "Epoch  11/80\n"
          ]
        },
        {
          "output_type": "stream",
          "name": "stderr",
          "text": []
        },
        {
          "output_type": "stream",
          "name": "stdout",
          "text": [
            "  Loss: 0.173905 | Train Acc: 0.8164 | Test Acc: 0.8420 | Time: 19.9s\n",
            "  ✅ New best model saved! (Acc: 0.8420)\n",
            "Epoch  12/80\n"
          ]
        },
        {
          "output_type": "stream",
          "name": "stderr",
          "text": []
        },
        {
          "output_type": "stream",
          "name": "stdout",
          "text": [
            "  Loss: 0.159409 | Train Acc: 0.8287 | Test Acc: 0.8482 | Time: 20.0s\n",
            "  ✅ New best model saved! (Acc: 0.8482)\n",
            "Epoch  13/80\n"
          ]
        },
        {
          "output_type": "stream",
          "name": "stderr",
          "text": []
        },
        {
          "output_type": "stream",
          "name": "stdout",
          "text": [
            "  Loss: 0.143260 | Train Acc: 0.8515 | Test Acc: 0.8604 | Time: 19.8s\n",
            "  ✅ New best model saved! (Acc: 0.8604)\n",
            "Epoch  14/80\n"
          ]
        },
        {
          "output_type": "stream",
          "name": "stderr",
          "text": []
        },
        {
          "output_type": "stream",
          "name": "stdout",
          "text": [
            "  Loss: 0.123745 | Train Acc: 0.8441 | Test Acc: 0.8604 | Time: 20.1s\n",
            "Epoch  15/80\n"
          ]
        },
        {
          "output_type": "stream",
          "name": "stderr",
          "text": []
        },
        {
          "output_type": "stream",
          "name": "stdout",
          "text": [
            "  Loss: 0.111030 | Train Acc: 0.8673 | Test Acc: 0.8834 | Time: 20.1s\n",
            "  ✅ New best model saved! (Acc: 0.8834)\n",
            "Epoch  16/80\n"
          ]
        },
        {
          "output_type": "stream",
          "name": "stderr",
          "text": []
        },
        {
          "output_type": "stream",
          "name": "stdout",
          "text": [
            "  Loss: 0.096041 | Train Acc: 0.9051 | Test Acc: 0.9018 | Time: 20.1s\n",
            "  ✅ New best model saved! (Acc: 0.9018)\n",
            "Epoch  17/80\n"
          ]
        },
        {
          "output_type": "stream",
          "name": "stderr",
          "text": []
        },
        {
          "output_type": "stream",
          "name": "stdout",
          "text": [
            "  Loss: 0.091966 | Train Acc: 0.8843 | Test Acc: 0.8819 | Time: 20.1s\n",
            "Epoch  18/80\n"
          ]
        },
        {
          "output_type": "stream",
          "name": "stderr",
          "text": []
        },
        {
          "output_type": "stream",
          "name": "stdout",
          "text": [
            "  Loss: 0.083982 | Train Acc: 0.9124 | Test Acc: 0.9018 | Time: 20.1s\n",
            "Epoch  19/80\n"
          ]
        },
        {
          "output_type": "stream",
          "name": "stderr",
          "text": []
        },
        {
          "output_type": "stream",
          "name": "stdout",
          "text": [
            "  Loss: 0.079853 | Train Acc: 0.9228 | Test Acc: 0.9172 | Time: 20.1s\n",
            "  ✅ New best model saved! (Acc: 0.9172)\n",
            "Epoch  20/80\n"
          ]
        },
        {
          "output_type": "stream",
          "name": "stderr",
          "text": []
        },
        {
          "output_type": "stream",
          "name": "stdout",
          "text": [
            "  Loss: 0.079250 | Train Acc: 0.9263 | Test Acc: 0.9248 | Time: 20.2s\n",
            "  ✅ New best model saved! (Acc: 0.9248)\n",
            "\n",
            "============================================================\n",
            "💾 CURRENT RESOURCE USAGE\n",
            "============================================================\n",
            "System RAM: 4.1% used (2.4/83.5 GB)\n",
            "GPU RAM: 13.4% used (5.3/40.0 GB)\n",
            "============================================================\n",
            "Epoch  21/80\n"
          ]
        },
        {
          "output_type": "stream",
          "name": "stderr",
          "text": []
        },
        {
          "output_type": "stream",
          "name": "stdout",
          "text": [
            "  Loss: 0.073143 | Train Acc: 0.9309 | Test Acc: 0.9294 | Time: 20.0s\n",
            "  ✅ New best model saved! (Acc: 0.9294)\n",
            "Epoch  22/80\n"
          ]
        },
        {
          "output_type": "stream",
          "name": "stderr",
          "text": []
        },
        {
          "output_type": "stream",
          "name": "stdout",
          "text": [
            "  Loss: 0.069230 | Train Acc: 0.9371 | Test Acc: 0.9402 | Time: 20.1s\n",
            "  ✅ New best model saved! (Acc: 0.9402)\n",
            "Epoch  23/80\n"
          ]
        },
        {
          "output_type": "stream",
          "name": "stderr",
          "text": []
        },
        {
          "output_type": "stream",
          "name": "stdout",
          "text": [
            "  Loss: 0.068394 | Train Acc: 0.9371 | Test Acc: 0.9387 | Time: 20.1s\n",
            "Epoch  24/80\n"
          ]
        },
        {
          "output_type": "stream",
          "name": "stderr",
          "text": []
        },
        {
          "output_type": "stream",
          "name": "stdout",
          "text": [
            "  Loss: 0.065706 | Train Acc: 0.8792 | Test Acc: 0.8880 | Time: 20.0s\n",
            "Epoch  25/80\n"
          ]
        },
        {
          "output_type": "stream",
          "name": "stderr",
          "text": []
        },
        {
          "output_type": "stream",
          "name": "stdout",
          "text": [
            "  Loss: 0.065433 | Train Acc: 0.9421 | Test Acc: 0.9356 | Time: 20.1s\n",
            "Epoch  26/80\n"
          ]
        },
        {
          "output_type": "stream",
          "name": "stderr",
          "text": []
        },
        {
          "output_type": "stream",
          "name": "stdout",
          "text": [
            "  Loss: 0.062554 | Train Acc: 0.9333 | Test Acc: 0.9248 | Time: 19.8s\n",
            "Epoch  27/80\n"
          ]
        },
        {
          "output_type": "stream",
          "name": "stderr",
          "text": []
        },
        {
          "output_type": "stream",
          "name": "stdout",
          "text": [
            "  Loss: 0.056571 | Train Acc: 0.9406 | Test Acc: 0.9371 | Time: 20.0s\n",
            "Epoch  28/80\n"
          ]
        },
        {
          "output_type": "stream",
          "name": "stderr",
          "text": []
        },
        {
          "output_type": "stream",
          "name": "stdout",
          "text": [
            "  Loss: 0.058735 | Train Acc: 0.9448 | Test Acc: 0.9387 | Time: 19.8s\n",
            "Epoch  29/80\n"
          ]
        },
        {
          "output_type": "stream",
          "name": "stderr",
          "text": []
        },
        {
          "output_type": "stream",
          "name": "stdout",
          "text": [
            "  Loss: 0.053377 | Train Acc: 0.9356 | Test Acc: 0.9279 | Time: 20.3s\n",
            "Epoch  30/80\n"
          ]
        },
        {
          "output_type": "stream",
          "name": "stderr",
          "text": []
        },
        {
          "output_type": "stream",
          "name": "stdout",
          "text": [
            "  Loss: 0.053555 | Train Acc: 0.9367 | Test Acc: 0.9310 | Time: 20.4s\n",
            "\n",
            "============================================================\n",
            "💾 CURRENT RESOURCE USAGE\n",
            "============================================================\n",
            "System RAM: 4.1% used (2.4/83.5 GB)\n",
            "GPU RAM: 13.4% used (5.3/40.0 GB)\n",
            "============================================================\n",
            "Epoch  31/80\n"
          ]
        },
        {
          "output_type": "stream",
          "name": "stderr",
          "text": []
        },
        {
          "output_type": "stream",
          "name": "stdout",
          "text": [
            "  Loss: 0.053205 | Train Acc: 0.9541 | Test Acc: 0.9402 | Time: 19.9s\n",
            "Epoch  32/80\n"
          ]
        },
        {
          "output_type": "stream",
          "name": "stderr",
          "text": []
        },
        {
          "output_type": "stream",
          "name": "stdout",
          "text": [
            "  Loss: 0.050372 | Train Acc: 0.9491 | Test Acc: 0.9479 | Time: 20.3s\n",
            "  ✅ New best model saved! (Acc: 0.9479)\n",
            "Epoch  33/80\n"
          ]
        },
        {
          "output_type": "stream",
          "name": "stderr",
          "text": []
        },
        {
          "output_type": "stream",
          "name": "stdout",
          "text": [
            "  Loss: 0.050716 | Train Acc: 0.9437 | Test Acc: 0.9479 | Time: 20.1s\n",
            "Epoch  34/80\n"
          ]
        },
        {
          "output_type": "stream",
          "name": "stderr",
          "text": []
        },
        {
          "output_type": "stream",
          "name": "stdout",
          "text": [
            "  Loss: 0.049619 | Train Acc: 0.9541 | Test Acc: 0.9494 | Time: 20.1s\n",
            "  ✅ New best model saved! (Acc: 0.9494)\n",
            "Epoch  35/80\n"
          ]
        },
        {
          "output_type": "stream",
          "name": "stderr",
          "text": []
        },
        {
          "output_type": "stream",
          "name": "stdout",
          "text": [
            "  Loss: 0.045960 | Train Acc: 0.9502 | Test Acc: 0.9448 | Time: 20.0s\n",
            "Epoch  36/80\n"
          ]
        },
        {
          "output_type": "stream",
          "name": "stderr",
          "text": []
        },
        {
          "output_type": "stream",
          "name": "stdout",
          "text": [
            "  Loss: 0.049333 | Train Acc: 0.9522 | Test Acc: 0.9509 | Time: 19.8s\n",
            "  ✅ New best model saved! (Acc: 0.9509)\n",
            "Epoch  37/80\n"
          ]
        },
        {
          "output_type": "stream",
          "name": "stderr",
          "text": []
        },
        {
          "output_type": "stream",
          "name": "stdout",
          "text": [
            "  Loss: 0.047470 | Train Acc: 0.9572 | Test Acc: 0.9632 | Time: 20.1s\n",
            "  ✅ New best model saved! (Acc: 0.9632)\n",
            "Epoch  38/80\n"
          ]
        },
        {
          "output_type": "stream",
          "name": "stderr",
          "text": []
        },
        {
          "output_type": "stream",
          "name": "stdout",
          "text": [
            "  Loss: 0.045855 | Train Acc: 0.9502 | Test Acc: 0.9463 | Time: 19.8s\n",
            "Epoch  39/80\n"
          ]
        },
        {
          "output_type": "stream",
          "name": "stderr",
          "text": []
        },
        {
          "output_type": "stream",
          "name": "stdout",
          "text": [
            "  Loss: 0.047194 | Train Acc: 0.9549 | Test Acc: 0.9463 | Time: 19.9s\n",
            "Epoch  40/80\n"
          ]
        },
        {
          "output_type": "stream",
          "name": "stderr",
          "text": []
        },
        {
          "output_type": "stream",
          "name": "stdout",
          "text": [
            "  Loss: 0.046293 | Train Acc: 0.9595 | Test Acc: 0.9448 | Time: 20.0s\n",
            "\n",
            "============================================================\n",
            "💾 CURRENT RESOURCE USAGE\n",
            "============================================================\n",
            "System RAM: 4.1% used (2.4/83.5 GB)\n",
            "GPU RAM: 13.4% used (5.3/40.0 GB)\n",
            "============================================================\n",
            "Epoch  41/80\n"
          ]
        },
        {
          "output_type": "stream",
          "name": "stderr",
          "text": []
        },
        {
          "output_type": "stream",
          "name": "stdout",
          "text": [
            "  Loss: 0.044243 | Train Acc: 0.9599 | Test Acc: 0.9601 | Time: 20.1s\n",
            "Epoch  42/80\n"
          ]
        },
        {
          "output_type": "stream",
          "name": "stderr",
          "text": []
        },
        {
          "output_type": "stream",
          "name": "stdout",
          "text": [
            "  Loss: 0.046226 | Train Acc: 0.9541 | Test Acc: 0.9586 | Time: 20.3s\n",
            "Epoch  43/80\n"
          ]
        },
        {
          "output_type": "stream",
          "name": "stderr",
          "text": []
        },
        {
          "output_type": "stream",
          "name": "stdout",
          "text": [
            "  Loss: 0.045105 | Train Acc: 0.9533 | Test Acc: 0.9463 | Time: 20.1s\n",
            "Epoch  44/80\n"
          ]
        },
        {
          "output_type": "stream",
          "name": "stderr",
          "text": []
        },
        {
          "output_type": "stream",
          "name": "stdout",
          "text": [
            "  Loss: 0.042713 | Train Acc: 0.9583 | Test Acc: 0.9509 | Time: 19.8s\n",
            "Epoch  45/80\n"
          ]
        },
        {
          "output_type": "stream",
          "name": "stderr",
          "text": []
        },
        {
          "output_type": "stream",
          "name": "stdout",
          "text": [
            "  Loss: 0.041789 | Train Acc: 0.9587 | Test Acc: 0.9509 | Time: 20.1s\n",
            "Epoch  46/80\n"
          ]
        },
        {
          "output_type": "stream",
          "name": "stderr",
          "text": []
        },
        {
          "output_type": "stream",
          "name": "stdout",
          "text": [
            "  Loss: 0.040781 | Train Acc: 0.9591 | Test Acc: 0.9555 | Time: 20.0s\n",
            "Epoch  47/80\n"
          ]
        },
        {
          "output_type": "stream",
          "name": "stderr",
          "text": [
            "                                                        "
          ]
        },
        {
          "output_type": "stream",
          "name": "stdout",
          "text": [
            "  Loss: 0.041191 | Train Acc: 0.9610 | Test Acc: 0.9540 | Time: 20.0s\n",
            "  ⏹️  Early stopping triggered (patience: 10)\n",
            "================================================================================\n",
            "🎉 训练完成！\n",
            "⏱️  Total Training Time: 951.1 seconds (15.9 minutes)\n",
            "🏆 Best Test Accuracy: 0.9632\n",
            "💾 Best Model Saved: best_model_csnn_enhanced.pt\n",
            "\n",
            "============================================================\n",
            "💾 CURRENT RESOURCE USAGE\n",
            "============================================================\n",
            "System RAM: 4.1% used (2.4/83.5 GB)\n",
            "GPU RAM: 13.4% used (5.3/40.0 GB)\n",
            "============================================================\n"
          ]
        },
        {
          "output_type": "stream",
          "name": "stderr",
          "text": [
            "\r"
          ]
        },
        {
          "output_type": "display_data",
          "data": {
            "text/plain": [
              "<Figure size 1500x500 with 4 Axes>"
            ],
            "image/png": "[encoded data removed]"
          },
          "metadata": {}
        }
      ],
      "source": [
        "# -*- coding: utf-8 -*-\n",
        "# ===== 增强版CSNN训练 - 含详细参数信息 =====\n",
        "import os\n",
        "import glob\n",
        "import random\n",
        "import time\n",
        "import psutil\n",
        "\n",
        "import torch\n",
        "import torchaudio\n",
        "import torch.nn as nn\n",
        "import torch.optim as optim\n",
        "from torch.utils.data import Dataset, DataLoader\n",
        "\n",
        "import snntorch as snn\n",
        "import snntorch.surrogate as surrogate\n",
        "from snntorch import spikegen\n",
        "\n",
        "from tqdm import tqdm\n",
        "import matplotlib.pyplot as plt\n",
        "from sklearn.metrics import confusion_matrix\n",
        "import seaborn as sns\n",
        "import numpy as np\n",
        "\n",
        "# 尝试导入GPU内存监控\n",
        "try:\n",
        "    from pynvml import nvmlInit, nvmlDeviceGetHandleByIndex, nvmlDeviceGetMemoryInfo, nvmlShutdown\n",
        "    NVML_AVAILABLE = True\n",
        "except ImportError:\n",
        "    NVML_AVAILABLE = False\n",
        "\n",
        "# ===================== 1. 数据集与 MelSpectrogram 预处理 =====================\n",
        "\n",
        "class FireDataset(Dataset):\n",
        "    \"\"\"\n",
        "    自定义数据集，用于读取 fire / nofire 音频，并转换为 MelSpectrogram。\n",
        "    \"\"\"\n",
        "    def __init__(self, file_list, labels, sample_rate=16000):\n",
        "        self.file_list = file_list\n",
        "        self.labels = labels\n",
        "        self.sample_rate = sample_rate\n",
        "\n",
        "        # MelSpectrogram 参数 (参考论文)\n",
        "        self.mel_transform = torchaudio.transforms.MelSpectrogram(\n",
        "            sample_rate=sample_rate,\n",
        "            n_fft=1024,\n",
        "            hop_length=320,\n",
        "            n_mels=64,\n",
        "            window_fn=torch.hann_window\n",
        "        )\n",
        "        # 对数幅度转换\n",
        "        self.amp_to_db = torchaudio.transforms.AmplitudeToDB(stype='power')\n",
        "\n",
        "    def __len__(self):\n",
        "        return len(self.file_list)\n",
        "\n",
        "    def __getitem__(self, idx):\n",
        "        file_path = self.file_list[idx]\n",
        "        label = self.labels[idx]\n",
        "\n",
        "        # 1) 读取音频\n",
        "        waveform, sr = torchaudio.load(file_path)\n",
        "        # 若采样率非 16k，重采样\n",
        "        if sr != self.sample_rate:\n",
        "            resampler = torchaudio.transforms.Resample(sr, self.sample_rate)\n",
        "            waveform = resampler(waveform)\n",
        "\n",
        "        # 若音频为多通道，转换为单通道\n",
        "        if waveform.shape[0] > 1:\n",
        "            waveform = waveform.mean(dim=0, keepdim=True)\n",
        "\n",
        "        # 2) 计算 Mel Spectrogram\n",
        "        mel_spec = self.mel_transform(waveform)    # [1, 64, time_frames]\n",
        "        mel_spec_db = self.amp_to_db(mel_spec)     # 转为对数幅度\n",
        "\n",
        "        # 3) 返回 [1, 64, time_frames] 与 label\n",
        "        return mel_spec_db, torch.tensor(label, dtype=torch.long)\n",
        "\n",
        "\n",
        "def load_data(data_root=\"data\", train_ratio=0.8):\n",
        "    \"\"\"\n",
        "    扫描 data_root/fire 与 data_root/nofire 文件夹下的 .wav 音频文件，\n",
        "    以 train_ratio : (1-train_ratio) 划分训练集和测试集\n",
        "    \"\"\"\n",
        "    print(f\"正在扫描数据路径: {data_root}\")\n",
        "\n",
        "    fire_dir = os.path.join(data_root, \"fire\")\n",
        "    nofire_dir = os.path.join(data_root, \"nofire\")\n",
        "\n",
        "    print(f\"Fire 文件夹: {fire_dir}\")\n",
        "    print(f\"NoFire 文件夹: {nofire_dir}\")\n",
        "\n",
        "    # 检查文件夹是否存在\n",
        "    if not os.path.exists(fire_dir):\n",
        "        raise FileNotFoundError(f\"Fire 文件夹不存在: {fire_dir}\")\n",
        "    if not os.path.exists(nofire_dir):\n",
        "        raise FileNotFoundError(f\"NoFire 文件夹不存在: {nofire_dir}\")\n",
        "\n",
        "    fire_files = glob.glob(os.path.join(fire_dir, \"*.wav\"))\n",
        "    nofire_files = glob.glob(os.path.join(nofire_dir, \"*.wav\"))\n",
        "\n",
        "    print(f\"找到 {len(fire_files)} 个 fire 文件\")\n",
        "    print(f\"找到 {len(nofire_files)} 个 nofire 文件\")\n",
        "\n",
        "    # 如果没有找到任何文件\n",
        "    if len(fire_files) == 0 and len(nofire_files) == 0:\n",
        "        raise ValueError(f\"在 {data_root} 中没有找到任何 .wav 文件！\")\n",
        "\n",
        "    if len(fire_files) == 0:\n",
        "        raise ValueError(f\"在 {fire_dir} 中没有找到 fire 类别的 .wav 文件！\")\n",
        "\n",
        "    if len(nofire_files) == 0:\n",
        "        raise ValueError(f\"在 {nofire_dir} 中没有找到 nofire 类别的 .wav 文件！\")\n",
        "\n",
        "    # 构建文件列表与标签\n",
        "    file_list = fire_files + nofire_files\n",
        "    labels = [1] * len(fire_files) + [0] * len(nofire_files)\n",
        "\n",
        "    # 打乱顺序\n",
        "    combined = list(zip(file_list, labels))\n",
        "    random.shuffle(combined)\n",
        "    file_list, labels = zip(*combined)\n",
        "\n",
        "    # 按 train_ratio 划分训练/测试集\n",
        "    split_idx = int(train_ratio * len(file_list))\n",
        "    train_files = file_list[:split_idx]\n",
        "    train_labels = labels[:split_idx]\n",
        "    test_files = file_list[split_idx:]\n",
        "    test_labels = labels[split_idx:]\n",
        "\n",
        "    train_dataset = FireDataset(train_files, train_labels)\n",
        "    test_dataset = FireDataset(test_files, test_labels)\n",
        "\n",
        "    print(f\"Train set: {len(train_dataset)} samples\")\n",
        "    print(f\"Test set: {len(test_dataset)} samples\")\n",
        "    print(f\"Fire samples in train: {sum(train_labels)}\")\n",
        "    print(f\"Fire samples in test: {sum(test_labels)}\")\n",
        "\n",
        "    return train_dataset, test_dataset\n",
        "\n",
        "\n",
        "# ===================== 2. 定义 CSNN 模型 =====================\n",
        "\n",
        "class CSNN(nn.Module):\n",
        "    \"\"\"\n",
        "    根据论文表2构建 CSNN 模型，包含3个卷积+池化+LIF层，以及2个全连接+LIF层。\n",
        "    关键修改：在 forward 中将脉冲计数归一化为发放率 [0,1]，然后用 MSE 损失。\n",
        "    \"\"\"\n",
        "    def __init__(self, T=15, beta=0.5, num_classes=2):\n",
        "        super(CSNN, self).__init__()\n",
        "        self.T = T\n",
        "\n",
        "        # (1) BatchNorm 层（输入通道为1）\n",
        "        self.batch_norm_in = nn.BatchNorm2d(num_features=1)\n",
        "\n",
        "        # (2) 第一个卷积层 + LIF1\n",
        "        self.conv1 = nn.Conv2d(in_channels=1, out_channels=8, kernel_size=5, stride=1, padding=0)\n",
        "        self.lif1 = snn.Leaky(beta=beta, threshold=1.0, spike_grad=surrogate.fast_sigmoid())\n",
        "\n",
        "        # (3) 第一个池化层\n",
        "        self.pool1 = nn.MaxPool2d(kernel_size=2, stride=2)\n",
        "\n",
        "        # (4) 第二个卷积层 + LIF2\n",
        "        self.conv2 = nn.Conv2d(in_channels=8, out_channels=16, kernel_size=5, stride=1, padding=0)\n",
        "        self.lif2 = snn.Leaky(beta=beta, threshold=1.0, spike_grad=surrogate.fast_sigmoid())\n",
        "        self.pool2 = nn.MaxPool2d(kernel_size=2, stride=2)\n",
        "\n",
        "        # (5) 第三个卷积层 + LIF3\n",
        "        self.conv3 = nn.Conv2d(in_channels=16, out_channels=32, kernel_size=5, stride=1, padding=0)\n",
        "        self.lif3 = snn.Leaky(beta=beta, threshold=1.0, spike_grad=surrogate.fast_sigmoid())\n",
        "        self.pool3 = nn.MaxPool2d(kernel_size=2, stride=2)\n",
        "\n",
        "        # (6) 全连接层与 LIF 层\n",
        "        # 动态计算特征维度\n",
        "        self.fc_input_size = None\n",
        "        self.fc1 = None  # 将在第一次前向传播时初始化\n",
        "\n",
        "        self.lif4 = snn.Leaky(beta=beta, threshold=1.0, spike_grad=surrogate.fast_sigmoid())\n",
        "\n",
        "        self.fc2 = nn.Linear(128, num_classes)\n",
        "        self.lif5 = snn.Leaky(beta=beta, threshold=1.0, spike_grad=surrogate.fast_sigmoid())\n",
        "\n",
        "    def _initialize_fc_layers(self, input_shape, device):\n",
        "        \"\"\"计算并初始化全连接层的输入维度\"\"\"\n",
        "        with torch.no_grad():\n",
        "            x = torch.randn(1, *input_shape, device=device)\n",
        "            x = self.batch_norm_in(x)\n",
        "            x = self.conv1(x)\n",
        "            x = self.pool1(x)\n",
        "            x = self.conv2(x)\n",
        "            x = self.pool2(x)\n",
        "            x = self.conv3(x)\n",
        "            x = self.pool3(x)\n",
        "            self.fc_input_size = x.view(1, -1).shape[1]\n",
        "\n",
        "        self.fc1 = nn.Linear(self.fc_input_size, 128).to(device)\n",
        "        print(f\"🔧 FC1 input size: {self.fc_input_size}\")\n",
        "\n",
        "    def forward(self, x):\n",
        "        \"\"\"\n",
        "        x: [batch, 1, 64, time_frames]\n",
        "        采用 T 个时步重复输入的方式进行前向传播，\n",
        "        最终输出归一化的发放率 [0,1]。\n",
        "        \"\"\"\n",
        "        # 初始化 FC 层（如果尚未初始化）\n",
        "        if self.fc1 is None:\n",
        "            self._initialize_fc_layers(x.shape[1:], x.device)\n",
        "\n",
        "        batch_size = x.shape[0]\n",
        "\n",
        "        # 初始化各 LIF 神经元的膜电位\n",
        "        mem1 = self.lif1.init_leaky()\n",
        "        mem2 = self.lif2.init_leaky()\n",
        "        mem3 = self.lif3.init_leaky()\n",
        "        mem4 = self.lif4.init_leaky()\n",
        "        mem5 = self.lif5.init_leaky()\n",
        "\n",
        "        spk_out_sum = torch.zeros(batch_size, 2, device=x.device)\n",
        "\n",
        "        for t in range(self.T):\n",
        "            x_t = x\n",
        "\n",
        "            # BatchNorm\n",
        "            x_t = self.batch_norm_in(x_t)\n",
        "\n",
        "            # Conv1 + LIF1\n",
        "            x_t = self.conv1(x_t)\n",
        "            spk1, mem1 = self.lif1(x_t, mem1)\n",
        "            spk1 = self.pool1(spk1)\n",
        "\n",
        "            # Conv2 + LIF2\n",
        "            x_t = self.conv2(spk1)\n",
        "            spk2, mem2 = self.lif2(x_t, mem2)\n",
        "            spk2 = self.pool2(spk2)\n",
        "\n",
        "            # Conv3 + LIF3\n",
        "            x_t = self.conv3(spk2)\n",
        "            spk3, mem3 = self.lif3(x_t, mem3)\n",
        "            spk3 = self.pool3(spk3)\n",
        "\n",
        "            # Flatten\n",
        "            spk3_flat = spk3.view(batch_size, -1)\n",
        "\n",
        "            # FC1 + LIF4\n",
        "            x_t = self.fc1(spk3_flat)\n",
        "            spk4, mem4 = self.lif4(x_t, mem4)\n",
        "\n",
        "            # FC2 + LIF5\n",
        "            x_t = self.fc2(spk4)\n",
        "            spk5, mem5 = self.lif5(x_t, mem5)\n",
        "\n",
        "            spk_out_sum += spk5\n",
        "\n",
        "        # 关键修改：将脉冲计数归一化为发放率 [0,1]\n",
        "        spike_rates = spk_out_sum / self.T\n",
        "\n",
        "        return spike_rates  # 现在返回 [0,1] 范围的发放率\n",
        "\n",
        "\n",
        "# ===================== 3. 系统信息和模型分析 =====================\n",
        "\n",
        "def print_system_info():\n",
        "    \"\"\"打印系统信息\"\"\"\n",
        "    print(\"=\" * 80)\n",
        "    print(\"🖥️  SYSTEM INFORMATION\")\n",
        "    print(\"=\" * 80)\n",
        "\n",
        "    # 基本系统信息\n",
        "    print(f\"Python Version: {'.'.join(map(str, [3, 8, 10]))}\")  # 简化版本\n",
        "    print(f\"PyTorch Version: {torch.__version__}\")\n",
        "    print(f\"Device: {'CUDA' if torch.cuda.is_available() else 'CPU'}\")\n",
        "\n",
        "    if torch.cuda.is_available():\n",
        "        print(f\"GPU: {torch.cuda.get_device_name(0)}\")\n",
        "        print(f\"GPU Count: {torch.cuda.device_count()}\")\n",
        "\n",
        "    # 内存信息\n",
        "    mem = psutil.virtual_memory()\n",
        "    print(f\"System RAM: {mem.total / (1024**3):.1f} GB total, {mem.available / (1024**3):.1f} GB available\")\n",
        "\n",
        "    if torch.cuda.is_available() and NVML_AVAILABLE:\n",
        "        try:\n",
        "            nvmlInit()\n",
        "            handle = nvmlDeviceGetHandleByIndex(0)\n",
        "            info = nvmlDeviceGetMemoryInfo(handle)\n",
        "            print(f\"GPU RAM: {info.total / (1024**3):.1f} GB total, {info.free / (1024**3):.1f} GB free\")\n",
        "            nvmlShutdown()\n",
        "        except:\n",
        "            print(\"GPU RAM: Info unavailable\")\n",
        "\n",
        "    print(\"=\" * 80)\n",
        "\n",
        "\n",
        "def print_model_summary(model, sample_input_shape=None):\n",
        "    \"\"\"打印详细的模型信息\"\"\"\n",
        "    print(\"\\n\" + \"=\" * 80)\n",
        "    print(\"🧠 MODEL ARCHITECTURE SUMMARY\")\n",
        "    print(\"=\" * 80)\n",
        "\n",
        "    # 基本信息\n",
        "    total_params = sum(p.numel() for p in model.parameters())\n",
        "    trainable_params = sum(p.numel() for p in model.parameters() if p.requires_grad)\n",
        "    non_trainable_params = total_params - trainable_params\n",
        "\n",
        "    print(f\"Model Name: CSNN (Convolutional Spiking Neural Network)\")\n",
        "    print(f\"Time Steps (T): {model.T}\")\n",
        "    print(f\"Total Parameters: {total_params:,}\")\n",
        "    print(f\"Trainable Parameters: {trainable_params:,}\")\n",
        "    print(f\"Non-trainable Parameters: {non_trainable_params:,}\")\n",
        "    print(f\"Model Size: {total_params * 4 / (1024**2):.2f} MB (float32)\")\n",
        "\n",
        "    # 层级结构分析\n",
        "    print(f\"\\n📋 LAYER-WISE PARAMETER BREAKDOWN\")\n",
        "    print(\"-\" * 60)\n",
        "    layer_info = {}\n",
        "\n",
        "    for name, param in model.named_parameters():\n",
        "        if param.requires_grad:\n",
        "            # 提取层类型\n",
        "            layer_type = name.split('.')[0]\n",
        "            param_type = name.split('.')[-1] if '.' in name else 'other'\n",
        "\n",
        "            if layer_type not in layer_info:\n",
        "                layer_info[layer_type] = {'weights': 0, 'biases': 0, 'other': 0}\n",
        "\n",
        "            if 'weight' in param_type:\n",
        "                layer_info[layer_type]['weights'] += param.numel()\n",
        "            elif 'bias' in param_type:\n",
        "                layer_info[layer_type]['biases'] += param.numel()\n",
        "            else:\n",
        "                layer_info[layer_type]['other'] += param.numel()\n",
        "\n",
        "    # 显示每层的参数统计\n",
        "    for layer_name, counts in layer_info.items():\n",
        "        total_layer = counts['weights'] + counts['biases'] + counts['other']\n",
        "        print(f\"{layer_name:15s}: {total_layer:>10,} params \"\n",
        "              f\"(W: {counts['weights']:>8,}, B: {counts['biases']:>6,})\")\n",
        "\n",
        "    print(\"-\" * 60)\n",
        "    print(f\"{'TOTAL':15s}: {trainable_params:>10,} params\")\n",
        "\n",
        "    # SNN特有信息\n",
        "    print(f\"\\n⚡ SPIKING NEURAL NETWORK SPECIFICS\")\n",
        "    print(\"-\" * 60)\n",
        "    print(f\"LIF Neurons: 5 layers (conv layers + fc layers)\")\n",
        "    print(f\"Spike Encoding: Direct input (no Poisson encoding)\")\n",
        "    print(f\"Output: Normalized spike rates [0,1]\")\n",
        "    print(f\"Loss Function: MSE with one-hot targets\")\n",
        "\n",
        "    # 网络架构细节\n",
        "    print(f\"\\n🏗️  NETWORK ARCHITECTURE\")\n",
        "    print(\"-\" * 60)\n",
        "    print(\"Input: [batch, 1, 64, time_frames] (Mel Spectrogram)\")\n",
        "    print(\"├── BatchNorm2d(1)\")\n",
        "    print(\"├── Conv2d(1→8, 5x5) + LIF + MaxPool(2x2)\")\n",
        "    print(\"├── Conv2d(8→16, 5x5) + LIF + MaxPool(2x2)\")\n",
        "    print(\"├── Conv2d(16→32, 5x5) + LIF + MaxPool(2x2)\")\n",
        "    print(\"├── Flatten + FC(auto→128) + LIF\")\n",
        "    print(\"└── FC(128→2) + LIF\")\n",
        "    print(\"Output: [batch, 2] (Fire/NoFire spike rates)\")\n",
        "\n",
        "    print(\"=\" * 80)\n",
        "\n",
        "\n",
        "def print_training_config(config):\n",
        "    \"\"\"打印训练配置信息\"\"\"\n",
        "    print(\"\\n\" + \"=\" * 80)\n",
        "    print(\"⚙️  TRAINING CONFIGURATION\")\n",
        "    print(\"=\" * 80)\n",
        "    for key, value in config.items():\n",
        "        print(f\"{key:20s}: {value}\")\n",
        "    print(\"=\" * 80)\n",
        "\n",
        "\n",
        "def print_memory_usage(device):\n",
        "    \"\"\"打印当前内存使用情况\"\"\"\n",
        "    print(\"\\n\" + \"=\" * 60)\n",
        "    print(\"💾 CURRENT RESOURCE USAGE\")\n",
        "    print(\"=\" * 60)\n",
        "\n",
        "    # 系统内存\n",
        "    mem = psutil.virtual_memory()\n",
        "    print(f\"System RAM: {mem.percent:.1f}% used ({mem.used/(1024**3):.1f}/{mem.total/(1024**3):.1f} GB)\")\n",
        "\n",
        "    # GPU内存\n",
        "    if torch.cuda.is_available() and device == \"cuda\":\n",
        "        if NVML_AVAILABLE:\n",
        "            try:\n",
        "                nvmlInit()\n",
        "                handle = nvmlDeviceGetHandleByIndex(0)\n",
        "                info = nvmlDeviceGetMemoryInfo(handle)\n",
        "                used_percent = (info.used / info.total) * 100\n",
        "                print(f\"GPU RAM: {used_percent:.1f}% used ({info.used/(1024**3):.1f}/{info.total/(1024**3):.1f} GB)\")\n",
        "                nvmlShutdown()\n",
        "            except:\n",
        "                print(\"GPU RAM: Info unavailable\")\n",
        "        else:\n",
        "            print(\"GPU RAM: pynvml not available\")\n",
        "\n",
        "    print(\"=\" * 60)\n",
        "\n",
        "\n",
        "# ===================== 4. 训练与测试流程 =====================\n",
        "\n",
        "def one_hot_labels(labels, num_classes=2):\n",
        "    \"\"\"\n",
        "    将 [batch] 标签转换为 one-hot 格式: fire=1 -> [0,1], nofire=0 -> [1,0]\n",
        "    现在目标值在 [0,1] 范围内，与归一化输出匹配\n",
        "    \"\"\"\n",
        "    batch_size = labels.shape[0]\n",
        "    oh = torch.zeros(batch_size, num_classes, device=labels.device)\n",
        "    for i in range(batch_size):\n",
        "        oh[i, labels[i]] = 1.0\n",
        "    return oh\n",
        "\n",
        "\n",
        "def train_model(model, train_loader, optimizer, device=\"cuda\"):\n",
        "    model.train()\n",
        "    total_loss = 0.0\n",
        "    # 使用 tqdm 显示训练进度\n",
        "    for batch_idx, (data, target) in enumerate(tqdm(train_loader, desc=\"Training\", leave=False)):\n",
        "        data = data.to(device)      # [batch, 1, 64, time_frames]\n",
        "        target = target.to(device)  # [batch]\n",
        "\n",
        "        spike_rates = model(data)   # [batch, 2] 现在是 [0,1] 范围的发放率\n",
        "\n",
        "        # MSE Spike Rate Loss - 现在数值范围匹配了！\n",
        "        target_oh = one_hot_labels(target, num_classes=2)  # [0,1] 或 [1,0]\n",
        "        loss = torch.mean((spike_rates - target_oh) ** 2)\n",
        "\n",
        "        optimizer.zero_grad()\n",
        "        loss.backward()\n",
        "\n",
        "        # 梯度裁剪提高稳定性\n",
        "        torch.nn.utils.clip_grad_norm_(model.parameters(), max_norm=1.0)\n",
        "        optimizer.step()\n",
        "\n",
        "        total_loss += loss.item()\n",
        "\n",
        "    return total_loss / len(train_loader)\n",
        "\n",
        "\n",
        "def test_model(model, test_loader, device=\"cuda\"):\n",
        "    model.eval()\n",
        "    correct = 0\n",
        "    total = 0\n",
        "    # 使用 tqdm 显示测试进度\n",
        "    for data, target in tqdm(test_loader, desc=\"Testing\", leave=False):\n",
        "        data = data.to(device)\n",
        "        target = target.to(device)\n",
        "\n",
        "        spike_rates = model(data)  # [batch, 2] 发放率\n",
        "        pred = torch.argmax(spike_rates, dim=1)\n",
        "        correct += (pred == target).sum().item()\n",
        "        total += target.size(0)\n",
        "    return correct / total\n",
        "\n",
        "\n",
        "# ===================== 5. 主函数 =====================\n",
        "\n",
        "def main():\n",
        "    # 打印系统信息\n",
        "    print_system_info()\n",
        "\n",
        "    device = \"cuda\" if torch.cuda.is_available() else \"cpu\"\n",
        "    print(f\"\\n🎯 Selected Device: {device.upper()}\")\n",
        "\n",
        "    # 设置随机种子\n",
        "    torch.manual_seed(42)\n",
        "    random.seed(42)\n",
        "    np.random.seed(42)\n",
        "\n",
        "    # 训练配置\n",
        "    training_config = {\n",
        "        \"Device\": device,\n",
        "        \"Batch Size\": 32,\n",
        "        \"Learning Rate\": 0.0005,\n",
        "        \"Max Epochs\": 80,\n",
        "        \"Patience\": 10,\n",
        "        \"Optimizer\": \"Adam\",\n",
        "        \"Loss Function\": \"MSE (Spike Rate)\",\n",
        "        \"Gradient Clipping\": 1.0,\n",
        "        \"Time Steps (T)\": 15,\n",
        "        \"Beta (LIF)\": 0.5,\n",
        "        \"Random Seed\": 42\n",
        "    }\n",
        "\n",
        "    print_training_config(training_config)\n",
        "\n",
        "    # 1) 自动检测数据路径\n",
        "    possible_paths = [\n",
        "        \"/content/data\",\n",
        "        \"/content/drive/MyDrive/data\",\n",
        "        \"/content/drive/MyDrive/fire_detection_data\",\n",
        "        \"data\",\n",
        "        \"./data\"\n",
        "    ]\n",
        "\n",
        "    data_root = None\n",
        "    for path in possible_paths:\n",
        "        if os.path.exists(path):\n",
        "            fire_dir = os.path.join(path, \"fire\")\n",
        "            nofire_dir = os.path.join(path, \"nofire\")\n",
        "            if os.path.exists(fire_dir) and os.path.exists(nofire_dir):\n",
        "                data_root = path\n",
        "                print(f\"\\n✅ 找到数据路径: {data_root}\")\n",
        "                break\n",
        "\n",
        "    if data_root is None:\n",
        "        print(\"\\n❌ 没有找到数据！请确保您的数据文件夹结构如下：\")\n",
        "        print(\"data/\")\n",
        "        print(\"├── fire/\")\n",
        "        print(\"│   ├── fire1.wav\")\n",
        "        print(\"│   ├── fire2.wav\")\n",
        "        print(\"│   └── ...\")\n",
        "        print(\"└── nofire/\")\n",
        "        print(\"    ├── nofire1.wav\")\n",
        "        print(\"    ├── nofire2.wav\")\n",
        "        print(\"    └── ...\")\n",
        "        print(\"\\n请检查以下路径之一是否存在:\")\n",
        "        for path in possible_paths:\n",
        "            print(f\"  - {path}\")\n",
        "        return\n",
        "\n",
        "    try:\n",
        "        train_dataset, test_dataset = load_data(data_root=data_root, train_ratio=0.8)\n",
        "    except (FileNotFoundError, ValueError) as e:\n",
        "        print(f\"❌ 数据加载失败: {e}\")\n",
        "        return\n",
        "\n",
        "    # 2) 构建 DataLoader\n",
        "    train_loader = DataLoader(train_dataset, batch_size=training_config[\"Batch Size\"],\n",
        "                             shuffle=True, drop_last=True, num_workers=12, pin_memory=True)\n",
        "    test_loader = DataLoader(test_dataset, batch_size=training_config[\"Batch Size\"],\n",
        "                            shuffle=False, drop_last=False, num_workers=12, pin_memory=True)\n",
        "\n",
        "    # 3) 初始化模型\n",
        "    model = CSNN(T=training_config[\"Time Steps (T)\"], beta=training_config[\"Beta (LIF)\"], num_classes=2).to(device)\n",
        "\n",
        "    # 🎯 这里调用模型摘要函数！\n",
        "    print_model_summary(model)\n",
        "\n",
        "    # 4) 定义优化器\n",
        "    optimizer = optim.Adam(model.parameters(), lr=training_config[\"Learning Rate\"])\n",
        "\n",
        "    # 5) 训练设置\n",
        "    max_epochs = training_config[\"Max Epochs\"]\n",
        "    best_acc = 0.0\n",
        "    patience = training_config[\"Patience\"]\n",
        "    patience_counter = 0\n",
        "\n",
        "    # 用于记录每个 epoch 的指标\n",
        "    train_loss_list = []\n",
        "    train_acc_list = []\n",
        "    test_acc_list = []\n",
        "\n",
        "    print(\"\\n🚀 开始训练...\")\n",
        "    print(\"=\" * 80)\n",
        "\n",
        "    start_time = time.time()\n",
        "\n",
        "    for epoch in range(1, max_epochs + 1):\n",
        "        epoch_start = time.time()\n",
        "\n",
        "        print(f\"Epoch {epoch:3d}/{max_epochs}\")\n",
        "\n",
        "        train_loss = train_model(model, train_loader, optimizer, device)\n",
        "        train_acc = test_model(model, train_loader, device)\n",
        "        test_acc = test_model(model, test_loader, device)\n",
        "\n",
        "        epoch_time = time.time() - epoch_start\n",
        "\n",
        "        print(f\"  Loss: {train_loss:.6f} | Train Acc: {train_acc:.4f} | Test Acc: {test_acc:.4f} | Time: {epoch_time:.1f}s\")\n",
        "\n",
        "        train_loss_list.append(train_loss)\n",
        "        train_acc_list.append(train_acc)\n",
        "        test_acc_list.append(test_acc)\n",
        "\n",
        "        # 保存最佳模型并 Early Stopping\n",
        "        if test_acc > best_acc:\n",
        "            best_acc = test_acc\n",
        "            torch.save(model.state_dict(), \"best_model_csnn_enhanced.pt\")\n",
        "            print(f\"  ✅ New best model saved! (Acc: {best_acc:.4f})\")\n",
        "            patience_counter = 0\n",
        "        else:\n",
        "            patience_counter += 1\n",
        "            if patience_counter >= patience:\n",
        "                print(f\"  ⏹️  Early stopping triggered (patience: {patience})\")\n",
        "                break\n",
        "\n",
        "        # 每10个epoch显示一次内存使用\n",
        "        if epoch % 10 == 0:\n",
        "            print_memory_usage(device)\n",
        "\n",
        "    total_time = time.time() - start_time\n",
        "\n",
        "    print(\"=\" * 80)\n",
        "    print(\"🎉 训练完成！\")\n",
        "    print(f\"⏱️  Total Training Time: {total_time:.1f} seconds ({total_time/60:.1f} minutes)\")\n",
        "    print(f\"🏆 Best Test Accuracy: {best_acc:.4f}\")\n",
        "    print(f\"💾 Best Model Saved: best_model_csnn_enhanced.pt\")\n",
        "\n",
        "    # 最终内存使用情况\n",
        "    print_memory_usage(device)\n",
        "\n",
        "\n",
        "\n",
        "    # ---------------------- 绘制训练结果 ----------------------\n",
        "    plt.figure(figsize=(15, 5))\n",
        "\n",
        "    # 损失曲线\n",
        "    plt.subplot(1, 3, 1)\n",
        "    plt.plot(range(1, len(train_loss_list)+1), train_loss_list, marker='o', label='Training Loss')\n",
        "    plt.xlabel('Epoch')\n",
        "    plt.ylabel('Loss')\n",
        "    plt.title('Training Loss vs. Epoch')\n",
        "    plt.legend()\n",
        "    plt.grid(True)\n",
        "\n",
        "    # 准确率曲线\n",
        "    plt.subplot(1, 3, 2)\n",
        "    plt.plot(range(1, len(train_acc_list)+1), train_acc_list, marker='o', label='Train Accuracy')\n",
        "    plt.plot(range(1, len(test_acc_list)+1), test_acc_list, marker='o', label='Test Accuracy')\n",
        "    plt.xlabel('Epoch')\n",
        "    plt.ylabel('Accuracy')\n",
        "    plt.title('Accuracy vs. Epoch')\n",
        "    plt.legend()\n",
        "    plt.grid(True)\n",
        "\n",
        "    # 混淆矩阵\n",
        "    plt.subplot(1, 3, 3)\n",
        "    all_preds = []\n",
        "    all_targets = []\n",
        "    model.eval()\n",
        "    with torch.no_grad():\n",
        "        for data, target in test_loader:\n",
        "            data = data.to(device)\n",
        "            target = target.to(device)\n",
        "            spike_rates = model(data)\n",
        "            pred = torch.argmax(spike_rates, dim=1)\n",
        "            all_preds.extend(pred.cpu().numpy())\n",
        "            all_targets.extend(target.cpu().numpy())\n",
        "\n",
        "    cm = confusion_matrix(all_targets, all_preds)\n",
        "    sns.heatmap(cm, annot=True, fmt=\"d\", cmap=\"Blues\",\n",
        "                xticklabels=[\"nofire\", \"fire\"], yticklabels=[\"nofire\", \"fire\"])\n",
        "    plt.xlabel(\"Predicted\")\n",
        "    plt.ylabel(\"True\")\n",
        "    plt.title(\"Confusion Matrix\")\n",
        "\n",
        "    plt.tight_layout()\n",
        "    plt.show()\n",
        "\n",
        "\n",
        "if __name__ == \"__main__\":\n",
        "    main()"
      ]
    }
  ],
  "metadata": {
    "accelerator": "GPU",
    "colab": {
      "gpuType": "A100",
      "provenance": [],
      "machine_shape": "hm",
      "include_colab_link": true
    },
    "kernelspec": {
      "display_name": "Python 3",
      "name": "python3"
    },
    "language_info": {
      "name": "python"
    }
  },
  "nbformat": 4,
  "nbformat_minor": 0
}